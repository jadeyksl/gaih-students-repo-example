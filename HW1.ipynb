{
  "nbformat": 4,
  "nbformat_minor": 0,
  "metadata": {
    "colab": {
      "name": "Untitled3.ipynb",
      "provenance": [],
      "authorship_tag": "ABX9TyPNhEYy49u3fjqZb4D0aAFG",
      "include_colab_link": true
    },
    "kernelspec": {
      "name": "python3",
      "display_name": "Python 3"
    }
  },
  "cells": [
    {
      "cell_type": "markdown",
      "metadata": {
        "id": "view-in-github",
        "colab_type": "text"
      },
      "source": [
        "<a href=\"https://colab.research.google.com/github/jadeyksl/gaih-students-repo-example/blob/main/Untitled3.ipynb\" target=\"_parent\"><img src=\"https://colab.research.google.com/assets/colab-badge.svg\" alt=\"Open In Colab\"/></a>"
      ]
    },
    {
      "cell_type": "code",
      "metadata": {
        "colab": {
          "base_uri": "https://localhost:8080/"
        },
        "id": "E5t5BTISJWQ8",
        "outputId": "febf5e32-aa67-4211-d596-7789e169a810"
      },
      "source": [
        "import random\r\n",
        "m1=[[0 for x in range (3)]for y in range(3)]\r\n",
        "for i in range(3):\r\n",
        "  for y in range (3):\r\n",
        "    m1[i][y]=random.randint(0,5)\r\n",
        "print(m1)\r\n"
      ],
      "execution_count": 6,
      "outputs": [
        {
          "output_type": "stream",
          "text": [
            "[[4, 4, 2], [4, 1, 4], [4, 3, 3]]\n"
          ],
          "name": "stdout"
        }
      ]
    }
  ]
}
